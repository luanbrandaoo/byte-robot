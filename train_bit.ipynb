{
  "cells": [
    {
      "cell_type": "code",
      "execution_count": null,
      "metadata": {
        "id": "FYJXxGVAFraE"
      },
      "outputs": [],
      "source": [
        "#!pip install chatterbot==1.1.0\n",
        "\n",
        "from chatterbot import ChatBot\n",
        "from chatterbot.trainers import ListTrainer\n",
        "\n",
        "bot = ChatBot('Bit',logic_adapters=['chatterbot.logic.BestMatch'],storage_adapter='chatterbot.storage.SQLStorageAdapter',database_uri='sqlite:///database.sqlite3')\n",
        "\n",
        "trainer = ListTrainer(bot)\n",
        "trainer.train(\"file.yml\")\n",
        "\n"
      ]
    }
  ],
  "metadata": {
    "colab": {
      "collapsed_sections": [],
      "provenance": []
    },
    "kernelspec": {
      "display_name": "Python 3.7.3 64-bit",
      "language": "python",
      "name": "python3"
    },
    "language_info": {
      "name": "python",
      "version": "3.7.3"
    },
    "vscode": {
      "interpreter": {
        "hash": "025eadb45ea6bcb8d7dc80ff88ecb5d9bcbc61bea031be9fbe00b9585cbb32fc"
      }
    }
  },
  "nbformat": 4,
  "nbformat_minor": 0
}
